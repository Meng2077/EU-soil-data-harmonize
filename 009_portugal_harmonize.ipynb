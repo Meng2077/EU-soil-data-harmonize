{
 "cells": [
  {
   "cell_type": "code",
   "execution_count": 1,
   "id": "c8af68c4-1e21-4d3a-882d-8170f0d5aa91",
   "metadata": {},
   "outputs": [],
   "source": [
    "import pandas as pd\n",
    "import numpy as np\n",
    "\n",
    "# read in data\n",
    "data_path = '/mnt/inca/ai4sh_data.harmo'\n",
    "df = pd.read_csv(f'{data_path}/raw_data/Portugal/pt_infosolo.csv', low_memory=False)\n"
   ]
  },
  {
   "cell_type": "code",
   "execution_count": 2,
   "id": "eb5fd6cd-1981-4892-b9d6-ed253b059c2e",
   "metadata": {},
   "outputs": [],
   "source": [
    "temp = pd.DataFrame()\n",
    "\n",
    "# depth, coordinates, time, and site id\n",
    "temp['lat'] = df['latitude']\n",
    "temp['lon'] = df['longitude']\n",
    "temp['time'] = df['year']\n",
    "temp['hzn_top'] = df['hor_top']\n",
    "temp['hzn_btm'] = df['hor_bot']\n",
    "temp['point_id'] = df['pt_infosolo_site_id']\n",
    "\n",
    "# oc\n",
    "temp['oc'] = df['oc']*10 # % -> g/kg\n",
    "temp.loc[df['oc_m'].isin(['Walkley-Black','Permanganate']),'oc'] = temp.loc[df['oc_m'].isin(['Walkley-Black','Permanganate']),'oc']*1.3\n",
    "temp.loc[df['oc_m']=='Tinsley','oc'] = temp.loc[df['oc_m']=='Tinsley','oc']*1.05\n",
    "temp.loc[df['oc_m']=='Springer & Klee. Wet combustion','oc'] = temp.loc[df['oc_m']=='Springer & Klee. Wet combustion','oc']*1.01\n",
    "temp.loc[df['oc_m']=='Colorimetric. Perkin-Elmer','oc'] = temp.loc[df['oc_m']=='Colorimetric. Perkin-Elmer','oc']*1.04\n",
    "temp.loc[df['oc_m'].isin(['Not determined','Unkown','Titrimetric determination']),'oc'] = np.nan"
   ]
  },
  {
   "cell_type": "code",
   "execution_count": 3,
   "id": "b52ab254-3c10-4a6f-a0fa-f07f3bb2d788",
   "metadata": {},
   "outputs": [],
   "source": [
    "# ph h2o\n",
    "temp['ph_h2o'] = df['ph']\n",
    "temp.loc[df['ph_m']=='Not determined','ph_h2o'] = np.nan\n",
    "\n",
    "# N\n",
    "temp['N'] = df['n']\n",
    "temp.loc[df['n_m']=='Not determined','N'] = np.nan\n",
    "\n",
    "# caco3\n",
    "temp['caco3'] = df['caco3']*10 # % -> g/kg\n",
    "temp.loc[df['caco3_m']=='Not determined','caco3'] = np.nan\n",
    "\n",
    "# texture\n",
    "a = 'Pipette method for particles having diameters <50 mm (clay and silt fractions), and by sieving for particles between 50 and 2000 mm (sand). Texture limits converted to the Atterberg scale using smooth splines.'\n",
    "temp['clay'] = df['c'] # <0.002mm\n",
    "temp['silt'] = df['si'] \n",
    "temp['sand'] = df['fs'] + df['cs'] \n",
    "temp.loc[df['texture_m']!=a,'silt'] = np.nan\n",
    "temp.loc[df['texture_m']!=a,'sand'] = np.nan\n",
    "\n",
    "# cec\n",
    "temp['CEC'] = df['cec']\n",
    "temp.loc[df['cec_m']=='Not determined','cec'] = np.nan\n",
    "\n",
    "# extractable K\n",
    "temp['K'] = df['k']\n",
    "temp.loc[df['k_m']=='Egner-Riehm','K'] = temp.loc[df['k_m']=='Egner-Riehm','K']*0.95 # egner-riehm, AL -> AAE\n",
    "temp.loc[df['k_m']=='Morgan','K'] = (temp.loc[df['k_m']=='Morgan','K']*1.038+32.7)/1.7 # morgan -> AAE, and kg/ha at 17cm depth -> mg/kg\n",
    "temp.loc[df['k_m']=='Bray I','K'] = temp.loc[df['k_m']=='Bray I','K']*1.30\n",
    "temp.loc[df['k_m'].isin(['Not determined','Unkown']),'K'] = np.nan\n",
    "\n",
    "# extractable P\n",
    "temp['P'] = np.nan\n",
    "temp.loc[df['p_m']=='Bray I','P'] = (df.loc[df['p_m']=='Bray I','p']-1.689)/0.514\n",
    "\n",
    "# bulk density\n",
    "temp['bulk_density'] = df['bd']\n",
    "temp.loc[df['bd_m']=='Not determined','bulk_density'] = np.nan\n"
   ]
  },
  {
   "cell_type": "code",
   "execution_count": 8,
   "id": "92da977e-370f-472c-9ee9-4a12f279c542",
   "metadata": {},
   "outputs": [],
   "source": [
    "temp['nuts0'] = 'PT'\n",
    "temp['ref'] = 'portugal.infosolo'"
   ]
  },
  {
   "cell_type": "code",
   "execution_count": 9,
   "id": "e3987d93-9dc8-419f-886d-bf6df81f98ec",
   "metadata": {},
   "outputs": [],
   "source": [
    "temp.to_csv(f'{data_path}/data/portugal_harmonized_v1.csv',index=False)"
   ]
  },
  {
   "cell_type": "code",
   "execution_count": null,
   "id": "a12d2e1f-d7b0-444b-aff3-dec9bd469385",
   "metadata": {},
   "outputs": [],
   "source": []
  }
 ],
 "metadata": {
  "kernelspec": {
   "display_name": "Python 3 (ipykernel)",
   "language": "python",
   "name": "python3"
  },
  "language_info": {
   "codemirror_mode": {
    "name": "ipython",
    "version": 3
   },
   "file_extension": ".py",
   "mimetype": "text/x-python",
   "name": "python",
   "nbconvert_exporter": "python",
   "pygments_lexer": "ipython3",
   "version": "3.8.10"
  }
 },
 "nbformat": 4,
 "nbformat_minor": 5
}
